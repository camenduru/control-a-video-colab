{
  "cells": [
    {
      "cell_type": "markdown",
      "metadata": {
        "id": "view-in-github"
      },
      "source": [
        "[![Open In Colab](https://colab.research.google.com/assets/colab-badge.svg)](https://colab.research.google.com/github/camenduru/control-a-video-colab/blob/main/control_a_video_colab.ipynb)"
      ]
    },
    {
      "cell_type": "code",
      "execution_count": null,
      "metadata": {
        "id": "l_qfCwXv48zd"
      },
      "outputs": [],
      "source": [
        "\"\"\"\n",
        "--control_mode', type=str, default='depth', help='support: hed, canny, depth'\n",
        "--inference_step', type=int, default=20, help='denoising steps for inference'\n",
        "--guidance_scale', type=float, default=7.5, help='guidance scale'\n",
        "--seed',  type=int, default=1, help='seed'\n",
        "--num_sample_frames', type=int, default=8, help='total frames to inference'\n",
        "--each_sample_frame', type=int, default=8, help='auto-regressive generation for each iteration'\n",
        "--sampling_rate', type=int, default=3, help='skip sampling from input video'\n",
        "--height', type=int, default=512, help='ouput height'\n",
        "--width', type=int, default=512, help='ouput width'\n",
        "--video_scale', type=float, default=1.5, help='video smoothness scale'\n",
        "--init_noise_thres', type=float, default=0.1, help='thres for res noise init'\n",
        "--input_video',type=str, default='bear.mp4'\n",
        "--prompt',type=str, default=\"a bear walking through stars, artstation\"\n",
        "\"\"\""
      ]
    },
    {
      "cell_type": "code",
      "execution_count": null,
      "metadata": {
        "id": "dh4UhzHG2mKV"
      },
      "outputs": [],
      "source": [
        "%cd /content\n",
        "!git clone -b dev https://github.com/camenduru/control-a-video\n",
        "!pip install diffusers==0.14.0 transformers==4.27.3 accelerate==0.18.0 xformers==0.0.20 decord==0.6.0 einops==0.6.0 #opencv-python==4.7.0.72 imageio==2.27.0"
      ]
    },
    {
      "cell_type": "code",
      "execution_count": null,
      "metadata": {},
      "outputs": [],
      "source": [
        "%cd /content/control-a-video\n",
        "!python inference.py"
      ]
    }
  ],
  "metadata": {
    "accelerator": "GPU",
    "colab": {
      "gpuType": "T4",
      "provenance": []
    },
    "kernelspec": {
      "display_name": "Python 3",
      "name": "python3"
    },
    "language_info": {
      "name": "python"
    }
  },
  "nbformat": 4,
  "nbformat_minor": 0
}
